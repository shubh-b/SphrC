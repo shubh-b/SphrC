{
 "cells": [
  {
   "cell_type": "markdown",
   "metadata": {},
   "source": [
    "##### Video Reference: https://youtu.be/WeXJ0-cCgKY"
   ]
  },
  {
   "cell_type": "markdown",
   "metadata": {},
   "source": [
    "Import search_file.txt as a String object."
   ]
  },
  {
   "cell_type": "code",
   "execution_count": 1,
   "metadata": {
    "scrolled": true
   },
   "outputs": [
    {
     "data": {
      "text/plain": [
       "\"Arrangements to check:\\r\\n423KKKL72KK\\r\\n==@=@JYH###OP78\\r\\n\\r\\n\\r\\nSome books to read:\\r\\nHarry Potter and the Philosopher's Stone\\r\\n\\t\\$11.3\\r\\n\\t26-June-1997\\r\\n\\r\\nHarry Potter and the Chamber of Secrets\\r\\n\\t\\$6.98\\r\\n\\t2-July-1998\\r\\n\\r\\nHarry Potter and the Goblet of Fire\\r\\n\\t\\$6.92\\r\\n\\t8-July-2000\\r\\n\\r\\nHarry Potter and the Half Blood Prince\\r\\n\\t\\$11\\r\\n\\t16-July-2005\\r\\n\\r\\nThe Adventures of Sherlock Holmes\\r\\n\\t\\$7.41\\r\\n\\t14 Oct 1892\\r\\n\\r\\nThe Memoirs of Sherlock Holmes\\r\\n\\t\\$9.99\\r\\n\\tDec 1892\\r\\n\\r\\nThe Return of Sherlock Holmes\\r\\n\\t\\$10.95\\r\\n\\tFeb 1905\\r\\n\\r\\nThe Sherlock Holmes Collection\\r\\n\\t\\$9.97\\r\\n\\t18-Dec-2021\\r\\n\\r\\n\\r\\nThese are few movie lengths:\\r\\ntitans\\t\\t1:53:26\\r\\ntitanic\\t\\t03:14:46\\r\\nTitanica\\t1:35:15\\r\\nInception\\t2:28:17\\r\\nGravity\\t\\t1:31:09\\r\\n\\r\\nand identify valid time lengths:\\r\\n121:56:34\\r\\n4:78:52\\r\\n01:33:67\\r\\n22:98:73\\r\\n00:47:54\\r\\n21:213:30\\r\\n32:00:12\\r\\n2:05:20\\r\\n\\r\\n\\r\\nSome names and contacts:\\r\\nMr. Pat Raymonds\\r\\n\\tpat.raymonds@emaildomain.com\\r\\n\\t2258 569 254\\r\\n\\r\\nMs Jenny Tarandal\\r\\n\\tjenny_taran@domain.com\\r\\n\\t5566 111 777\\r\\n\\r\\nDr. Lui Shearcal\\r\\n\\tlui@emailcentre.org\\r\\n\\t6262 445 669\\r\\n\\r\\nProf. Setty Natcam\\r\\n\\tsetnat@domainemail.co.in\\r\\n\\t1214 232 569\\r\\n\\r\\nProf (Dr.) Hacher Elentra\\r\\n\\tHachElen@allemails.com\\r\\n\\t1234 565 898\\r\\n\\r\\nMrs. Siely Masser\\r\\n\\tsiel-masser56@justdomain.edu\\r\\n\\t8888 654 321\\r\\n\\r\\nNot an email id: c\\\\nv@d@23_fg.net_au\\r\\n\\r\\n\\r\\nIdentify the Internet Protocol addresses:\\r\\n135.89.256.182,\\t\\t192.0.24.1,\\r\\n124.40.223.226,\\t\\t56.90.211.30,\\r\\n172.16.254.01,\\t\\t134.116.056.251,\\r\\n324.213.78.121,\\t\\t212.2134.124.213\\r\\n\\r\\n\\r\\nFew web addresses:\\r\\nhttps://www.google.com\\r\\nhttps://www.wikipedia.org\\r\\nhttps://en.wikipedia.org/wiki/URL\\r\\nhttp://info.cern.ch\\r\\nhttps://www.amazon.in\\r\\nhttps://www.ox.ac.uk\\r\\nhttps://cloud9.gg\\r\\nhttp://mysite.com/%E5%BC%95%89%B2%E3%82%8A.html\\r\\nhttp://your_site.com/questions/4856#my-document.html\\r\\nhttps://oursite.com/questions/my_document.html\""
      ]
     },
     "execution_count": 1,
     "metadata": {},
     "output_type": "execute_result"
    }
   ],
   "source": [
    "cd(raw\"F:\\Regex in Julia - Text Files\")\n",
    "str = read(\"search_file.txt\", String)\n",
    "str                                       # String in raw format"
   ]
  },
  {
   "cell_type": "code",
   "execution_count": 2,
   "metadata": {},
   "outputs": [
    {
     "name": "stdout",
     "output_type": "stream",
     "text": [
      "Arrangements to check:\r\n",
      "423KKKL72KK\r\n",
      "==@=@JYH###OP78\r\n",
      "\r\n",
      "\r\n",
      "Some books to read:\r\n",
      "Harry Potter and the Philosopher's Stone\r\n",
      "\t$11.3\r\n",
      "\t26-June-1997\r\n",
      "\r\n",
      "Harry Potter and the Chamber of Secrets\r\n",
      "\t$6.98\r\n",
      "\t2-July-1998\r\n",
      "\r\n",
      "Harry Potter and the Goblet of Fire\r\n",
      "\t$6.92\r\n",
      "\t8-July-2000\r\n",
      "\r\n",
      "Harry Potter and the Half Blood Prince\r\n",
      "\t$11\r\n",
      "\t16-July-2005\r\n",
      "\r\n",
      "The Adventures of Sherlock Holmes\r\n",
      "\t$7.41\r\n",
      "\t14 Oct 1892\r\n",
      "\r\n",
      "The Memoirs of Sherlock Holmes\r\n",
      "\t$9.99\r\n",
      "\tDec 1892\r\n",
      "\r\n",
      "The Return of Sherlock Holmes\r\n",
      "\t$10.95\r\n",
      "\tFeb 1905\r\n",
      "\r\n",
      "The Sherlock Holmes Collection\r\n",
      "\t$9.97\r\n",
      "\t18-Dec-2021\r\n",
      "\r\n",
      "\r\n",
      "These are few movie lengths:\r\n",
      "titans\t\t1:53:26\r\n",
      "titanic\t\t03:14:46\r\n",
      "Titanica\t1:35:15\r\n",
      "Inception\t2:28:17\r\n",
      "Gravity\t\t1:31:09\r\n",
      "\r\n",
      "and identify valid time lengths:\r\n",
      "121:56:34\r\n",
      "4:78:52\r\n",
      "01:33:67\r\n",
      "22:98:73\r\n",
      "00:47:54\r\n",
      "21:213:30\r\n",
      "32:00:12\r\n",
      "2:05:20\r\n",
      "\r\n",
      "\r\n",
      "Some names and contacts:\r\n",
      "Mr. Pat Raymonds\r\n",
      "\tpat.raymonds@emaildomain.com\r\n",
      "\t2258 569 254\r\n",
      "\r\n",
      "Ms Jenny Tarandal\r\n",
      "\tjenny_taran@domain.com\r\n",
      "\t5566 111 777\r\n",
      "\r\n",
      "Dr. Lui Shearcal\r\n",
      "\tlui@emailcentre.org\r\n",
      "\t6262 445 669\r\n",
      "\r\n",
      "Prof. Setty Natcam\r\n",
      "\tsetnat@domainemail.co.in\r\n",
      "\t1214 232 569\r\n",
      "\r\n",
      "Prof (Dr.) Hacher Elentra\r\n",
      "\tHachElen@allemails.com\r\n",
      "\t1234 565 898\r\n",
      "\r\n",
      "Mrs. Siely Masser\r\n",
      "\tsiel-masser56@justdomain.edu\r\n",
      "\t8888 654 321\r\n",
      "\r\n",
      "Not an email id: c\\nv@d@23_fg.net_au\r\n",
      "\r\n",
      "\r\n",
      "Identify the Internet Protocol addresses:\r\n",
      "135.89.256.182,\t\t192.0.24.1,\r\n",
      "124.40.223.226,\t\t56.90.211.30,\r\n",
      "172.16.254.01,\t\t134.116.056.251,\r\n",
      "324.213.78.121,\t\t212.2134.124.213\r\n",
      "\r\n",
      "\r\n",
      "Few web addresses:\r\n",
      "https://www.google.com\r\n",
      "https://www.wikipedia.org\r\n",
      "https://en.wikipedia.org/wiki/URL\r\n",
      "http://info.cern.ch\r\n",
      "https://www.amazon.in\r\n",
      "https://www.ox.ac.uk\r\n",
      "https://cloud9.gg\r\n",
      "http://mysite.com/%E5%BC%95%89%B2%E3%82%8A.html\r\n",
      "http://your_site.com/questions/4856#my-document.html\r\n",
      "https://oursite.com/questions/my_document.html"
     ]
    }
   ],
   "source": [
    "print(str)                                # Formatted-text line by line as appears in search_file"
   ]
  },
  {
   "cell_type": "markdown",
   "metadata": {},
   "source": [
    "# Usage of indexing and few basic Julia functions for searching patterns"
   ]
  },
  {
   "cell_type": "code",
   "execution_count": 3,
   "metadata": {},
   "outputs": [
    {
     "name": "stdout",
     "output_type": "stream",
     "text": [
      "a\n",
      "ngements to check:\n",
      "423KKKL72KK\n",
      "==@=@JYH###OP78\n",
      "\n",
      "\n",
      "Some books t\n",
      "eA \n"
     ]
    }
   ],
   "source": [
    "str[4] |> println\n",
    "str[5:70] |> println\n",
    "str[[9, 1, 16]] |> println"
   ]
  },
  {
   "cell_type": "code",
   "execution_count": 4,
   "metadata": {},
   "outputs": [
    {
     "name": "stdout",
     "output_type": "stream",
     "text": [
      "11\n",
      "1767\n"
     ]
    }
   ],
   "source": [
    "findfirst('t', str) |> println\n",
    "findlast('t', str) |> println"
   ]
  },
  {
   "cell_type": "code",
   "execution_count": 5,
   "metadata": {},
   "outputs": [
    {
     "name": "stdout",
     "output_type": "stream",
     "text": [
      "122\n",
      "1407\n",
      "[122, 130, 188, 196, 249, 257, 313, 319, 371, 379, 427, 435, 479, 488, 533, 541, 595, 596, 613, 614, 633, 652, 669, 670, 844, 875, 911, 936, 971, 993, 1030, 1057, 1101, 1126, 1162, 1193, 1310, 1311, 1340, 1341, 1371, 1372, 1406, 1407]\n"
     ]
    }
   ],
   "source": [
    "findfirst('\\t', str) |> println\n",
    "findlast('\\t', str) |> println\n",
    "findall(==('\\t'), str) |> println"
   ]
  },
  {
   "cell_type": "code",
   "execution_count": 6,
   "metadata": {},
   "outputs": [
    {
     "name": "stdout",
     "output_type": "stream",
     "text": [
      "122\n",
      "596\n"
     ]
    }
   ],
   "source": [
    "findnext('\\t', str, 120) |> println\n",
    "findprev('\\t', str, 600) |> println"
   ]
  },
  {
   "cell_type": "code",
   "execution_count": 7,
   "metadata": {},
   "outputs": [
    {
     "name": "stdout",
     "output_type": "stream",
     "text": [
      "117:118\n",
      "1750:1751\n",
      "UnitRange{Int64}[117:118, 529:530, 650:651, 816:817, 838:839, 853:854, 1573:1574, 1697:1698, 1750:1751]\n"
     ]
    }
   ],
   "source": [
    "findfirst(\"on\", str) |> println\n",
    "findlast(\"on\", str) |> println\n",
    "findall(\"on\", str) |> println"
   ]
  },
  {
   "cell_type": "code",
   "execution_count": 8,
   "metadata": {},
   "outputs": [
    {
     "name": "stdout",
     "output_type": "stream",
     "text": [
      "529:530\n",
      "838:839\n"
     ]
    }
   ],
   "source": [
    "findnext(\"on\", str, 120) |> println\n",
    "findprev(\"on\", str, 850) |> println"
   ]
  },
  {
   "cell_type": "code",
   "execution_count": 9,
   "metadata": {},
   "outputs": [
    {
     "name": "stdout",
     "output_type": "stream",
     "text": [
      "String\n",
      "true\n",
      "UnitRange{Int64}[177:180]\n"
     ]
    }
   ],
   "source": [
    "pattern = \"f Se\"\n",
    "typeof(pattern) |> println\n",
    "occursin(pattern, str) |> println\n",
    "findall(pattern, str) |> println"
   ]
  },
  {
   "cell_type": "markdown",
   "metadata": {},
   "source": [
    "# Creating a Regex (Regular Expression) object"
   ]
  },
  {
   "cell_type": "code",
   "execution_count": 10,
   "metadata": {},
   "outputs": [
    {
     "name": "stdout",
     "output_type": "stream",
     "text": [
      "Regex\n",
      "Regex\n"
     ]
    }
   ],
   "source": [
    "pattern = Regex(\"f Se\"); typeof(pattern) |> println\n",
    "pattern = r\"f Se\"; typeof(pattern) |> println"
   ]
  },
  {
   "cell_type": "markdown",
   "metadata": {},
   "source": [
    "### Finding RegexMatch object"
   ]
  },
  {
   "cell_type": "code",
   "execution_count": 11,
   "metadata": {},
   "outputs": [
    {
     "name": "stdout",
     "output_type": "stream",
     "text": [
      "true\n",
      "RegexMatch(\"f Se\")\n",
      "177\n"
     ]
    }
   ],
   "source": [
    "pattern = r\"f Se\"\n",
    "occursin(pattern, str) |> println\n",
    "(m = match(pattern, str)) |> println\n",
    "m.offset |> println"
   ]
  },
  {
   "cell_type": "code",
   "execution_count": 12,
   "metadata": {},
   "outputs": [
    {
     "name": "stdout",
     "output_type": "stream",
     "text": [
      "false\n",
      "nothing\n"
     ]
    }
   ],
   "source": [
    "pattern = r\"fSe\"\n",
    "occursin(pattern, str) |> println\n",
    "(m = match(pattern, str)) |> println"
   ]
  },
  {
   "cell_type": "code",
   "execution_count": 13,
   "metadata": {
    "scrolled": true
   },
   "outputs": [
    {
     "name": "stdout",
     "output_type": "stream",
     "text": [
      "true\n",
      "RegexMatch(\"e\")\n",
      "7\n"
     ]
    }
   ],
   "source": [
    "pattern = r\"[fSe]\"\n",
    "occursin(pattern, str) |> println\n",
    "(m = match(pattern, str)) |> println\n",
    "m.offset |> println"
   ]
  },
  {
   "cell_type": "markdown",
   "metadata": {},
   "source": [
    "# Metacharacters and Regex control structures"
   ]
  },
  {
   "cell_type": "code",
   "execution_count": 14,
   "metadata": {},
   "outputs": [
    {
     "name": "stdout",
     "output_type": "stream",
     "text": [
      "RegexMatch(\"4\")\n",
      "25\n",
      "RegexMatch(\"4\")\n",
      "25\n",
      "RegexMatch(\"A\")\n",
      "1\n",
      "RegexMatch(\"A\")\n",
      "1\n",
      "RegexMatch(\" \")\n",
      "13\n",
      "RegexMatch(\" \")\n",
      "13\n",
      "RegexMatch(\"A\")\n",
      "1\n",
      "RegexMatch(\"A\")\n",
      "1\n",
      "RegexMatch(\".\")\n",
      "126\n",
      "RegexMatch(\"\\$11.3\")\n",
      "123\n",
      "RegexMatch(\" \")\n",
      "13\n"
     ]
    }
   ],
   "source": [
    "pattern = r\"\\d\"; (m = match(pattern, str)) |> println; m.offset |> println\n",
    "pattern = r\"[0-9]\"; (m = match(pattern, str)) |> println; m.offset |> println\n",
    "pattern = r\"\\D\"; (m = match(pattern, str)) |> println; m.offset |> println\n",
    "pattern = r\"\\w\"; (m = match(pattern, str)) |> println; m.offset |> println\n",
    "pattern = r\"\\W\"; (m = match(pattern, str)) |> println; m.offset |> println\n",
    "pattern = r\"\\s\"; (m = match(pattern, str)) |> println; m.offset |> println\n",
    "pattern = r\"\\S\"; (m = match(pattern, str)) |> println; m.offset |> println\n",
    "pattern = r\".\"; (m = match(pattern, str)) |> println; m.offset |> println\n",
    "pattern = r\"\\.\"; (m = match(pattern, str)) |> println; m.offset |> println\n",
    "pattern = r\"\\$11\\.3\"; (m = match(pattern, str)) |> println; m.offset |> println\n",
    "pattern = r\"\\d|\\W|S\"; (m = match(pattern, str)) |> println; m.offset |> println"
   ]
  },
  {
   "cell_type": "markdown",
   "metadata": {},
   "source": [
    "### Anchors and word boundary"
   ]
  },
  {
   "cell_type": "code",
   "execution_count": 15,
   "metadata": {},
   "outputs": [
    {
     "name": "stdout",
     "output_type": "stream",
     "text": [
      "RegexMatch(\"Ar\")\n",
      "1\n",
      "RegexMatch(\"l\")\n",
      "1769\n",
      "RegexMatch(\".html\")\n",
      "1765\n",
      "RegexMatch(\"\")\n",
      "1\n",
      "RegexMatch(\"S\")\n",
      "59\n",
      "RegexMatch(\"e \")\n",
      "62\n",
      "RegexMatch(\"rry\")\n",
      "82\n",
      "RegexMatch(\"rr\")\n",
      "2\n",
      "RegexMatch(\"Ha\")\n",
      "80\n"
     ]
    }
   ],
   "source": [
    "pattern = r\"^Ar\"; (m = match(pattern, str)) |> println; m.offset |> println\n",
    "pattern = r\"l$\"; (m = match(pattern, str)) |> println; m.offset |> println\n",
    "pattern = r\".html$\"; (m = match(pattern, str)) |> println; m.offset |> println\n",
    "pattern = r\"\\b\"; (m = match(pattern, str)) |> println; m.offset |> println\n",
    "pattern = r\"\\bS\"; (m = match(pattern, str)) |> println; m.offset |> println\n",
    "pattern = r\"e\\b \"; (m = match(pattern, str)) |> println; m.offset |> println\n",
    "pattern = r\"rry\\b\"; (m = match(pattern, str)) |> println; m.offset |> println\n",
    "pattern = r\"rr\\B\"; (m = match(pattern, str)) |> println; m.offset |> println\n",
    "pattern = r\"\\bHa\\B\"; (m = match(pattern, str)) |> println; m.offset |> println"
   ]
  },
  {
   "cell_type": "markdown",
   "metadata": {},
   "source": [
    "### Quantifiers"
   ]
  },
  {
   "cell_type": "code",
   "execution_count": 16,
   "metadata": {},
   "outputs": [
    {
     "name": "stdout",
     "output_type": "stream",
     "text": [
      "RegexMatch(\"Arrangements\")\n",
      "1\n",
      "RegexMatch(\"k:\")\n",
      "21\n",
      "RegexMatch(\"check:\")\n",
      "17\n",
      "RegexMatch(\"423KKKL\")\n",
      "25\n",
      "RegexMatch(\"423KKKL72KK\")\n",
      "25\n",
      "RegexMatch(\"423K\")\n",
      "25\n",
      "RegexMatch(\"Arrangements\")\n",
      "1\n",
      "RegexMatch(\"check:\")\n",
      "17\n",
      "RegexMatch(\"423KKKL72KK\")\n",
      "25\n"
     ]
    }
   ],
   "source": [
    "# + i.e 1 or more\n",
    "# Greedy: As Many As Possible (longest match)\n",
    "pattern = r\"\\w+\"; (m = match(pattern, str)) |> println; m.offset |> println\n",
    "pattern = r\"\\w:\"; (m = match(pattern, str)) |> println; m.offset |> println\n",
    "pattern = r\"\\w+:\"; (m = match(pattern, str)) |> println; m.offset |> println\n",
    "pattern = r\"\\w+L\"; (m = match(pattern, str)) |> println; m.offset |> println\n",
    "pattern = r\"\\w+K\"; (m = match(pattern, str)) |> println; m.offset |> println\n",
    "# Lazy: As Few As Possible (shortest match)\n",
    "pattern = r\"\\w+?K\"; (m = match(pattern, str)) |> println; m.offset |> println\n",
    "# Possessive: Doesn't Give Up Characters\n",
    "pattern = r\"\\w++\"; (m = match(pattern, str)) |> println; m.offset |> println\n",
    "pattern = r\"\\w++:\"; (m = match(pattern, str)) |> println; m.offset |> println\n",
    "pattern = r\"4\\w++\"; (m = match(pattern, str)) |> println; m.offset |> println"
   ]
  },
  {
   "cell_type": "code",
   "execution_count": 17,
   "metadata": {},
   "outputs": [
    {
     "name": "stdout",
     "output_type": "stream",
     "text": [
      "RegexMatch(\"J\")\n",
      "43\n",
      "RegexMatch(\"JYH#\")\n",
      "43\n",
      "RegexMatch(\"==@=@JYH###\")\n",
      "38\n",
      "RegexMatch(\"==@=@JYH#\")\n",
      "38\n",
      "RegexMatch(\"==@=@JYH###OP78\\r\")\n",
      "38\n"
     ]
    }
   ],
   "source": [
    "# * i.e 0 or more\n",
    "# Greedy: As Many As Possible (longest match)\n",
    "pattern = r\"\\w*J\"; (m = match(pattern, str)) |> println; m.offset |> println\n",
    "# Lazy: As Few As Possible (shortest match)\n",
    "pattern = r\"\\w*#\"; (m = match(pattern, str)) |> println; m.offset |> println\n",
    "pattern = r\".*#\"; (m = match(pattern, str)) |> println; m.offset |> println\n",
    "pattern = r\".*?#\"; (m = match(pattern, str)) |> println; m.offset |> println\n",
    "# Possessive: Doesn't Give Up Characters\n",
    "pattern = r\"=.*+\"; (m = match(pattern, str)) |> println; m.offset |> println"
   ]
  },
  {
   "cell_type": "code",
   "execution_count": 18,
   "metadata": {},
   "outputs": [
    {
     "name": "stdout",
     "output_type": "stream",
     "text": [
      "RegexMatch(\"==@=\")\n",
      "38\n",
      "RegexMatch(\"==\")\n",
      "38\n",
      "RegexMatch(\"=\")\n",
      "38\n",
      "RegexMatch(\"==\")\n",
      "38\n",
      "RegexMatch(\"=@\")\n",
      "39\n",
      "RegexMatch(\"@\")\n",
      "40\n",
      "RegexMatch(\"==\")\n",
      "38\n",
      "RegexMatch(\"=\")\n",
      "38\n",
      "RegexMatch(\"==\")\n",
      "38\n"
     ]
    }
   ],
   "source": [
    "# ? i.e. 0 or 1\n",
    "# Greedy: As Many As Possible (longest match)\n",
    "pattern = r\".+=\"; (m = match(pattern, str)) |> println; m.offset |> println\n",
    "pattern = r\".?=\"; (m = match(pattern, str)) |> println; m.offset |> println\n",
    "pattern = r\"\\w?=\"; (m = match(pattern, str)) |> println; m.offset |> println\n",
    "pattern = r\".?=\"; (m = match(pattern, str)) |> println; m.offset |> println\n",
    "pattern = r\".?@\"; (m = match(pattern, str)) |> println; m.offset |> println\n",
    "pattern = r\"\\w?@\"; (m = match(pattern, str)) |> println; m.offset |> println\n",
    "# Lazy: As Few As Possible (shortest match)\n",
    "pattern = r\".?=\"; (m = match(pattern, str)) |> println; m.offset |> println\n",
    "pattern = r\".??=\"; (m = match(pattern, str)) |> println; m.offset |> println\n",
    "# Possessive: Doesn't Give Up Characters\n",
    "pattern = r\".?+=\"; (m = match(pattern, str)) |> println; m.offset |> println"
   ]
  },
  {
   "cell_type": "markdown",
   "metadata": {},
   "source": [
    "### Capturing groups"
   ]
  },
  {
   "cell_type": "code",
   "execution_count": 19,
   "metadata": {},
   "outputs": [
    {
     "name": "stdout",
     "output_type": "stream",
     "text": [
      "RegexMatch(\"Harry P\", Gr1=\"Ha\", Gr2=\"r\", Gr3=nothing, Gr4=\"ry P\")\n",
      "Harry P\n",
      "[80, 82, 0, 83]\n",
      "Union{Nothing, SubString{String}}[\"Ha\", \"r\", nothing, \"ry P\"]\n"
     ]
    }
   ],
   "source": [
    "pattern = r\"(?<Gr1>Ha)(?<Gr2>y|r)(?<Gr3>Pa)?(?<Gr4>ry P)\"\n",
    "\n",
    "(m = match(pattern, str)) |> println\n",
    "m.match |> println\n",
    "m.offsets |> println\n",
    "m.captures |> println"
   ]
  },
  {
   "cell_type": "markdown",
   "metadata": {},
   "source": [
    "# Iterator for finding all matches from entire search_file"
   ]
  },
  {
   "cell_type": "code",
   "execution_count": 20,
   "metadata": {},
   "outputs": [
    {
     "name": "stdout",
     "output_type": "stream",
     "text": [
      "(80:86, \"Harry P\")\n",
      "(147:153, \"Harry P\")\n",
      "(212:218, \"Harry P\")\n",
      "(273:279, \"Harry P\")\n"
     ]
    }
   ],
   "source": [
    "pattern = r\"(?<Gr1>Ha)(?<Gr2>y|r)(?<Gr3>Pa)?(?<Gr4>ry P)\"\n",
    "\n",
    "matches = collect(eachmatch(pattern, str))\n",
    "locs = findall(pattern, str)\n",
    "\n",
    "for i in 1:length(locs) println((locs[i], matches[i].match)) end"
   ]
  },
  {
   "cell_type": "markdown",
   "metadata": {},
   "source": [
    "### Overlapping matches"
   ]
  },
  {
   "cell_type": "code",
   "execution_count": 21,
   "metadata": {
    "scrolled": true
   },
   "outputs": [
    {
     "name": "stdout",
     "output_type": "stream",
     "text": [
      "(38:40, \"==@\")\n",
      "(39:41, \"=@=\")\n",
      "(40:42, \"@=@\")\n",
      "(46:48, \"###\")\n"
     ]
    }
   ],
   "source": [
    "pattern = r\"[=@#]{3}\"\n",
    "\n",
    "matches = collect(eachmatch(pattern, str, overlap = true))\n",
    "locs = findall(pattern, str, overlap = true)\n",
    "\n",
    "for i in 1:length(locs) println((locs[i], matches[i].match)) end"
   ]
  },
  {
   "cell_type": "markdown",
   "metadata": {},
   "source": [
    "# Matching movie names"
   ]
  },
  {
   "cell_type": "code",
   "execution_count": 22,
   "metadata": {
    "scrolled": true
   },
   "outputs": [
    {
     "name": "stdout",
     "output_type": "stream",
     "text": [
      "(589:594, \"titans\")\n",
      "(606:612, \"titanic\")\n",
      "(625:632, \"Titanica\")\n"
     ]
    }
   ],
   "source": [
    "pattern = r\"titan[sica]+\"i\n",
    "\n",
    "matches = collect(eachmatch(pattern, str))\n",
    "locs = findall(pattern, str)\n",
    "\n",
    "for i in 1:length(locs) println((locs[i], matches[i].match)) end"
   ]
  },
  {
   "cell_type": "code",
   "execution_count": 23,
   "metadata": {},
   "outputs": [
    {
     "name": "stdout",
     "output_type": "stream",
     "text": [
      "(606:612, \"titanic\")\n",
      "(625:632, \"Titanica\")\n"
     ]
    }
   ],
   "source": [
    "pattern = r\"titan[ica]+\"i\n",
    "\n",
    "matches = collect(eachmatch(pattern, str))\n",
    "locs = findall(pattern, str)\n",
    "\n",
    "for i in 1:length(locs) println((locs[i], matches[i].match)) end"
   ]
  },
  {
   "cell_type": "markdown",
   "metadata": {},
   "source": [
    "# Matching Harry Potter and Sherlock Holmes book names"
   ]
  },
  {
   "cell_type": "code",
   "execution_count": 24,
   "metadata": {},
   "outputs": [
    {
     "name": "stdout",
     "output_type": "stream",
     "text": [
      "(span = 80:119, match = \"Harry Potter and the Philosopher's Stone\")\n",
      "(span = 147:185, match = \"Harry Potter and the Chamber of Secrets\")\n",
      "(span = 212:246, match = \"Harry Potter and the Goblet of Fire\")\n",
      "(span = 273:310, match = \"Harry Potter and the Half Blood Prince\")\n",
      "(span = 336:368, match = \"The Adventures of Sherlock Holmes\")\n",
      "(span = 395:424, match = \"The Memoirs of Sherlock Holmes\")\n",
      "(span = 448:476, match = \"The Return of Sherlock Holmes\")\n",
      "(span = 501:530, match = \"The Sherlock Holmes Collection\")\n"
     ]
    }
   ],
   "source": [
    "pattern = r\".*(Harry|Sherlock).*\\S\"\n",
    "\n",
    "matches = collect(eachmatch(pattern, str))\n",
    "locs = findall(pattern, str)\n",
    "\n",
    "for i in 1:length(locs) println((span = locs[i], match = (matches[i].match))) end"
   ]
  },
  {
   "cell_type": "markdown",
   "metadata": {},
   "source": [
    "# Matching dollar amounts"
   ]
  },
  {
   "cell_type": "code",
   "execution_count": 25,
   "metadata": {
    "scrolled": true
   },
   "outputs": [
    {
     "name": "stdout",
     "output_type": "stream",
     "text": [
      "(span = 123:127, match = \"\\$11.3\")\n",
      "(span = 189:193, match = \"\\$6.98\")\n",
      "(span = 250:254, match = \"\\$6.92\")\n",
      "(span = 314:316, match = \"\\$11\")\n",
      "(span = 372:376, match = \"\\$7.41\")\n",
      "(span = 428:432, match = \"\\$9.99\")\n",
      "(span = 480:485, match = \"\\$10.95\")\n",
      "(span = 534:538, match = \"\\$9.97\")\n"
     ]
    }
   ],
   "source": [
    "pattern = r\"(\\$\\d+(\\.\\d+)?)\"\n",
    "\n",
    "matches = collect(eachmatch(pattern, str))\n",
    "locs = findall(pattern, str)\n",
    "\n",
    "for i in 1:length(locs) println((span = locs[i], match = (matches[i].match))) end"
   ]
  },
  {
   "cell_type": "markdown",
   "metadata": {},
   "source": [
    "# Matching publication dates/months"
   ]
  },
  {
   "cell_type": "code",
   "execution_count": 26,
   "metadata": {},
   "outputs": [
    {
     "name": "stdout",
     "output_type": "stream",
     "text": [
      "(span = 131:142, match = \"26-June-1997\")\n",
      "(span = 197:207, match = \"2-July-1998\")\n",
      "(span = 258:268, match = \"8-July-2000\")\n",
      "(span = 320:331, match = \"16-July-2005\")\n",
      "(span = 380:390, match = \"14 Oct 1892\")\n",
      "(span = 436:443, match = \"Dec 1892\")\n",
      "(span = 489:496, match = \"Feb 1905\")\n",
      "(span = 542:552, match = \"18-Dec-2021\")\n"
     ]
    }
   ],
   "source": [
    "pattern = r\"(\\d{1,2}[\\- ])?[A-Z][a-z]+[\\- ](1(8|9)|20)\\d{2}\"\n",
    "\n",
    "matches = collect(eachmatch(pattern, str))\n",
    "locs = findall(pattern, str)\n",
    "\n",
    "for i in 1:length(locs) println((span = locs[i], match = (matches[i].match))) end"
   ]
  },
  {
   "cell_type": "markdown",
   "metadata": {},
   "source": [
    "# Matching all names with salutations"
   ]
  },
  {
   "cell_type": "code",
   "execution_count": 27,
   "metadata": {},
   "outputs": [
    {
     "name": "stdout",
     "output_type": "stream",
     "text": [
      "(span = 826:841, match = \"Mr. Pat Raymonds\")\n",
      "(span = 892:908, match = \"Ms Jenny Tarandal\")\n",
      "(span = 953:968, match = \"Dr. Lui Shearcal\")\n",
      "(span = 1010:1027, match = \"Prof. Setty Natcam\")\n",
      "(span = 1074:1098, match = \"Prof (Dr.) Hacher Elentra\")\n",
      "(span = 1143:1159, match = \"Mrs. Siely Masser\")\n"
     ]
    }
   ],
   "source": [
    "pattern = r\"(M(r\\.|rs\\.|s)|Prof\\.?|Dr\\.).+\\S\"\n",
    "\n",
    "matches = collect(eachmatch(pattern, str))\n",
    "locs = findall(pattern, str)\n",
    "\n",
    "for i in 1:length(locs) println((span = locs[i], match = (matches[i].match))) end"
   ]
  },
  {
   "cell_type": "markdown",
   "metadata": {},
   "source": [
    "# Matching phone numbers"
   ]
  },
  {
   "cell_type": "code",
   "execution_count": 28,
   "metadata": {},
   "outputs": [
    {
     "name": "stdout",
     "output_type": "stream",
     "text": [
      "(span = 876:887, match = \"2258 569 254\")\n",
      "(span = 937:948, match = \"5566 111 777\")\n",
      "(span = 994:1005, match = \"6262 445 669\")\n",
      "(span = 1058:1069, match = \"1214 232 569\")\n",
      "(span = 1127:1138, match = \"1234 565 898\")\n",
      "(span = 1194:1205, match = \"8888 654 321\")\n"
     ]
    }
   ],
   "source": [
    "pattern = r\"\\d{4} \\d{3} \\d{3}\"\n",
    "\n",
    "matches = collect(eachmatch(pattern, str))\n",
    "locs = findall(pattern, str)\n",
    "\n",
    "for i in 1:length(locs) println((span = locs[i], match = (matches[i].match))) end"
   ]
  },
  {
   "cell_type": "markdown",
   "metadata": {},
   "source": [
    "# Matching all email ids"
   ]
  },
  {
   "cell_type": "code",
   "execution_count": 29,
   "metadata": {},
   "outputs": [
    {
     "name": "stdout",
     "output_type": "stream",
     "text": [
      "(span = 876:887, match = \"pat.raymonds@emaildomain.com\")\n",
      "(span = 937:948, match = \"jenny_taran@domain.com\")\n",
      "(span = 994:1005, match = \"lui@emailcentre.org\")\n",
      "(span = 1058:1069, match = \"setnat@domainemail.co.in\")\n",
      "(span = 1127:1138, match = \"HachElen@allemails.com\")\n",
      "(span = 1194:1205, match = \"siel-masser56@justdomain.edu\")\n"
     ]
    }
   ],
   "source": [
    "pattern = r\"\\b[\\w!#\\$%&'\\.*+\\-/=\\?^`{|}~]+@[a-z0-9\\-]+\\.[a-z0-9\\-\\.]+\\b\"i\n",
    "\n",
    "matches = collect(eachmatch(pattern, str))\n",
    "loc = findall(pattern, str)\n",
    "\n",
    "for i in 1:length(locs) println((span = locs[i], match = (matches[i].match))) end"
   ]
  },
  {
   "cell_type": "markdown",
   "metadata": {},
   "source": [
    "# Matching IP addresses"
   ]
  },
  {
   "cell_type": "code",
   "execution_count": 30,
   "metadata": {},
   "outputs": [
    {
     "name": "stdout",
     "output_type": "stream",
     "text": [
      "(span = 1312:1321, match = \"192.0.24.1\")\n",
      "(span = 1325:1338, match = \"124.40.223.226\")\n",
      "(span = 1342:1353, match = \"56.90.211.30\")\n",
      "(span = 1357:1369, match = \"172.16.254.01\")\n",
      "(span = 1373:1387, match = \"134.116.056.251\")\n"
     ]
    }
   ],
   "source": [
    "pattern = r\"\\b([01]?\\d\\d?|2[0-4]\\d|25[0-5])\\.([01]?\\d\\d?|2[0-4]\\d|25[0-5])\\.([01]?\\d\\d?|2[0-4]\\d|25[0-5])\\.([01]?\\d\\d?|2[0-4]\\d|25[0-5])\\b\"\n",
    "\n",
    "matches = collect(eachmatch(pattern, str))\n",
    "loc = findall(pattern, str)\n",
    "\n",
    "for i in 1:length(loc) println((span = loc[i], match = (matches[i].match))) end"
   ]
  },
  {
   "cell_type": "markdown",
   "metadata": {},
   "source": [
    "# Matching web addresses"
   ]
  },
  {
   "cell_type": "code",
   "execution_count": 31,
   "metadata": {
    "scrolled": true
   },
   "outputs": [
    {
     "name": "stdout",
     "output_type": "stream",
     "text": [
      "(span = 1450:1472, match = \"https://www.google.com\\r\")\n",
      "(span = 1474:1499, match = \"https://www.wikipedia.org\\r\")\n",
      "(span = 1501:1534, match = \"https://en.wikipedia.org/wiki/URL\\r\")\n",
      "(span = 1536:1555, match = \"http://info.cern.ch\\r\")\n",
      "(span = 1557:1578, match = \"https://www.amazon.in\\r\")\n",
      "(span = 1580:1600, match = \"https://www.ox.ac.uk\\r\")\n",
      "(span = 1602:1619, match = \"https://cloud9.gg\\r\")\n",
      "(span = 1621:1668, match = \"http://mysite.com/%E5%BC%95%89%B2%E3%82%8A.html\\r\")\n"
     ]
    }
   ],
   "source": [
    "pattern = r\"^https?://((?!_)\\w)+\\.((?!_).)+$\"m\n",
    "\n",
    "matches = collect(eachmatch(pattern, str))\n",
    "loc = findall(pattern, str)\n",
    "\n",
    "for i in 1:length(loc) println((span = loc[i], match = (matches[i].match))) end"
   ]
  },
  {
   "cell_type": "code",
   "execution_count": 32,
   "metadata": {
    "scrolled": true
   },
   "outputs": [
    {
     "name": "stdout",
     "output_type": "stream",
     "text": [
      "https://www.google.com\r\n",
      "https://www.wikipedia.org\r\n",
      "https://en.wikipedia.org/wiki/URL\r\n",
      "http://info.cern.ch\r\n",
      "https://www.amazon.in\r\n",
      "https://www.ox.ac.uk\r\n",
      "https://cloud9.gg\r\n",
      "http://mysite.com/%E5%BC%95%89%B2%E3%82%8A.html\r\n"
     ]
    }
   ],
   "source": [
    "for i in 1:length(loc) println(matches[i].match) end"
   ]
  },
  {
   "cell_type": "markdown",
   "metadata": {},
   "source": [
    "Removing the trailing carriage return characters and correcting respective ranges of indices in which web addresses exist:"
   ]
  },
  {
   "cell_type": "code",
   "execution_count": 33,
   "metadata": {
    "scrolled": true
   },
   "outputs": [
    {
     "name": "stdout",
     "output_type": "stream",
     "text": [
      "(span = 1450:1471, website = \"https://www.google.com\")\n",
      "(span = 1474:1498, website = \"https://www.wikipedia.org\")\n",
      "(span = 1501:1533, website = \"https://en.wikipedia.org/wiki/URL\")\n",
      "(span = 1536:1554, website = \"http://info.cern.ch\")\n",
      "(span = 1557:1577, website = \"https://www.amazon.in\")\n",
      "(span = 1580:1599, website = \"https://www.ox.ac.uk\")\n",
      "(span = 1602:1618, website = \"https://cloud9.gg\")\n",
      "(span = 1621:1667, website = \"http://mysite.com/%E5%BC%95%89%B2%E3%82%8A.html\")\n"
     ]
    }
   ],
   "source": [
    "for i in 1:length(loc)\n",
    "    println((span = loc[i][1]:loc[i][end] - 1, website = replace.(matches[i].match, r\"\\r\" => \"\")))\n",
    "end"
   ]
  }
 ],
 "metadata": {
  "kernelspec": {
   "display_name": "Julia 1.6.1",
   "language": "julia",
   "name": "julia-1.6"
  },
  "language_info": {
   "file_extension": ".jl",
   "mimetype": "application/julia",
   "name": "julia",
   "version": "1.6.1"
  }
 },
 "nbformat": 4,
 "nbformat_minor": 2
}
