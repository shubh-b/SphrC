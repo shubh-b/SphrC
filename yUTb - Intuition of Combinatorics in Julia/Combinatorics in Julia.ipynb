{
 "cells": [
  {
   "cell_type": "code",
   "execution_count": 1,
   "metadata": {},
   "outputs": [],
   "source": [
    "using Combinatorics"
   ]
  },
  {
   "cell_type": "code",
   "execution_count": 2,
   "metadata": {},
   "outputs": [
    {
     "data": {
      "text/plain": [
       "720"
      ]
     },
     "execution_count": 2,
     "metadata": {},
     "output_type": "execute_result"
    }
   ],
   "source": [
    "factorial(6)"
   ]
  },
  {
   "cell_type": "code",
   "execution_count": 3,
   "metadata": {},
   "outputs": [
    {
     "data": {
      "text/plain": [
       "24"
      ]
     },
     "execution_count": 3,
     "metadata": {},
     "output_type": "execute_result"
    }
   ],
   "source": [
    "factorial(4)"
   ]
  },
  {
   "cell_type": "code",
   "execution_count": 4,
   "metadata": {},
   "outputs": [
    {
     "data": {
      "text/plain": [
       "4"
      ]
     },
     "execution_count": 4,
     "metadata": {},
     "output_type": "execute_result"
    }
   ],
   "source": [
    "factorial(4, 3)\t\t# 4!/3!"
   ]
  },
  {
   "cell_type": "markdown",
   "metadata": {},
   "source": [
    "## Permutations and Combinations"
   ]
  },
  {
   "cell_type": "code",
   "execution_count": 5,
   "metadata": {},
   "outputs": [
    {
     "data": {
      "text/plain": [
       "4-element Vector{Char}:\n",
       " 'a': ASCII/Unicode U+0061 (category Ll: Letter, lowercase)\n",
       " 'b': ASCII/Unicode U+0062 (category Ll: Letter, lowercase)\n",
       " 'c': ASCII/Unicode U+0063 (category Ll: Letter, lowercase)\n",
       " 'd': ASCII/Unicode U+0064 (category Ll: Letter, lowercase)"
      ]
     },
     "execution_count": 5,
     "metadata": {},
     "output_type": "execute_result"
    }
   ],
   "source": [
    "arr1 = ['a', 'b', 'c', 'd']"
   ]
  },
  {
   "cell_type": "code",
   "execution_count": 6,
   "metadata": {},
   "outputs": [
    {
     "data": {
      "text/plain": [
       "6-element Vector{Char}:\n",
       " 'a': ASCII/Unicode U+0061 (category Ll: Letter, lowercase)\n",
       " 'a': ASCII/Unicode U+0061 (category Ll: Letter, lowercase)\n",
       " 'a': ASCII/Unicode U+0061 (category Ll: Letter, lowercase)\n",
       " 'b': ASCII/Unicode U+0062 (category Ll: Letter, lowercase)\n",
       " 'b': ASCII/Unicode U+0062 (category Ll: Letter, lowercase)\n",
       " 'c': ASCII/Unicode U+0063 (category Ll: Letter, lowercase)"
      ]
     },
     "execution_count": 6,
     "metadata": {},
     "output_type": "execute_result"
    }
   ],
   "source": [
    "arr2 = ['a', 'a', 'a', 'b', 'b', 'c']"
   ]
  },
  {
   "cell_type": "code",
   "execution_count": 7,
   "metadata": {},
   "outputs": [
    {
     "data": {
      "text/plain": [
       "24-element Vector{Vector{Char}}:\n",
       " ['a', 'b', 'c', 'd']\n",
       " ['a', 'b', 'd', 'c']\n",
       " ['a', 'c', 'b', 'd']\n",
       " ['a', 'c', 'd', 'b']\n",
       " ['a', 'd', 'b', 'c']\n",
       " ['a', 'd', 'c', 'b']\n",
       " ['b', 'a', 'c', 'd']\n",
       " ['b', 'a', 'd', 'c']\n",
       " ['b', 'c', 'a', 'd']\n",
       " ['b', 'c', 'd', 'a']\n",
       " ['b', 'd', 'a', 'c']\n",
       " ['b', 'd', 'c', 'a']\n",
       " ['c', 'a', 'b', 'd']\n",
       " ['c', 'a', 'd', 'b']\n",
       " ['c', 'b', 'a', 'd']\n",
       " ['c', 'b', 'd', 'a']\n",
       " ['c', 'd', 'a', 'b']\n",
       " ['c', 'd', 'b', 'a']\n",
       " ['d', 'a', 'b', 'c']\n",
       " ['d', 'a', 'c', 'b']\n",
       " ['d', 'b', 'a', 'c']\n",
       " ['d', 'b', 'c', 'a']\n",
       " ['d', 'c', 'a', 'b']\n",
       " ['d', 'c', 'b', 'a']"
      ]
     },
     "execution_count": 7,
     "metadata": {},
     "output_type": "execute_result"
    }
   ],
   "source": [
    "permutations(arr1) |> collect"
   ]
  },
  {
   "cell_type": "code",
   "execution_count": 8,
   "metadata": {},
   "outputs": [
    {
     "data": {
      "text/plain": [
       "24-element Vector{Vector{Char}}:\n",
       " ['a', 'b', 'c']\n",
       " ['a', 'b', 'd']\n",
       " ['a', 'c', 'b']\n",
       " ['a', 'c', 'd']\n",
       " ['a', 'd', 'b']\n",
       " ['a', 'd', 'c']\n",
       " ['b', 'a', 'c']\n",
       " ['b', 'a', 'd']\n",
       " ['b', 'c', 'a']\n",
       " ['b', 'c', 'd']\n",
       " ['b', 'd', 'a']\n",
       " ['b', 'd', 'c']\n",
       " ['c', 'a', 'b']\n",
       " ['c', 'a', 'd']\n",
       " ['c', 'b', 'a']\n",
       " ['c', 'b', 'd']\n",
       " ['c', 'd', 'a']\n",
       " ['c', 'd', 'b']\n",
       " ['d', 'a', 'b']\n",
       " ['d', 'a', 'c']\n",
       " ['d', 'b', 'a']\n",
       " ['d', 'b', 'c']\n",
       " ['d', 'c', 'a']\n",
       " ['d', 'c', 'b']"
      ]
     },
     "execution_count": 8,
     "metadata": {},
     "output_type": "execute_result"
    }
   ],
   "source": [
    "permutations(arr1, 3) |> collect"
   ]
  },
  {
   "cell_type": "code",
   "execution_count": 9,
   "metadata": {},
   "outputs": [
    {
     "data": {
      "text/plain": [
       "4-element Vector{Char}:\n",
       " 'b': ASCII/Unicode U+0062 (category Ll: Letter, lowercase)\n",
       " 'c': ASCII/Unicode U+0063 (category Ll: Letter, lowercase)\n",
       " 'd': ASCII/Unicode U+0064 (category Ll: Letter, lowercase)\n",
       " 'a': ASCII/Unicode U+0061 (category Ll: Letter, lowercase)"
      ]
     },
     "execution_count": 9,
     "metadata": {},
     "output_type": "execute_result"
    }
   ],
   "source": [
    "nthperm(arr1, 10)"
   ]
  },
  {
   "cell_type": "code",
   "execution_count": 10,
   "metadata": {},
   "outputs": [
    {
     "data": {
      "text/plain": [
       "4-element Vector{Char}:\n",
       " 'b': ASCII/Unicode U+0062 (category Ll: Letter, lowercase)\n",
       " 'c': ASCII/Unicode U+0063 (category Ll: Letter, lowercase)\n",
       " 'd': ASCII/Unicode U+0064 (category Ll: Letter, lowercase)\n",
       " 'a': ASCII/Unicode U+0061 (category Ll: Letter, lowercase)"
      ]
     },
     "execution_count": 10,
     "metadata": {},
     "output_type": "execute_result"
    }
   ],
   "source": [
    "nthperm!(arr1, 10)"
   ]
  },
  {
   "cell_type": "code",
   "execution_count": 11,
   "metadata": {},
   "outputs": [
    {
     "data": {
      "text/plain": [
       "4-element Vector{Char}:\n",
       " 'b': ASCII/Unicode U+0062 (category Ll: Letter, lowercase)\n",
       " 'c': ASCII/Unicode U+0063 (category Ll: Letter, lowercase)\n",
       " 'd': ASCII/Unicode U+0064 (category Ll: Letter, lowercase)\n",
       " 'a': ASCII/Unicode U+0061 (category Ll: Letter, lowercase)"
      ]
     },
     "execution_count": 11,
     "metadata": {},
     "output_type": "execute_result"
    }
   ],
   "source": [
    "arr1"
   ]
  },
  {
   "cell_type": "code",
   "execution_count": 12,
   "metadata": {},
   "outputs": [
    {
     "data": {
      "text/plain": [
       "60-element Vector{Vector{Char}}:\n",
       " ['a', 'a', 'a', 'b', 'b', 'c']\n",
       " ['a', 'a', 'a', 'b', 'c', 'b']\n",
       " ['a', 'a', 'a', 'c', 'b', 'b']\n",
       " ['a', 'a', 'b', 'a', 'b', 'c']\n",
       " ['a', 'a', 'b', 'a', 'c', 'b']\n",
       " ['a', 'a', 'b', 'b', 'a', 'c']\n",
       " ['a', 'a', 'b', 'b', 'c', 'a']\n",
       " ['a', 'a', 'b', 'c', 'a', 'b']\n",
       " ['a', 'a', 'b', 'c', 'b', 'a']\n",
       " ['a', 'a', 'c', 'a', 'b', 'b']\n",
       " ['a', 'a', 'c', 'b', 'a', 'b']\n",
       " ['a', 'a', 'c', 'b', 'b', 'a']\n",
       " ['a', 'b', 'a', 'a', 'b', 'c']\n",
       " ⋮\n",
       " ['b', 'c', 'a', 'b', 'a', 'a']\n",
       " ['b', 'c', 'b', 'a', 'a', 'a']\n",
       " ['c', 'a', 'a', 'a', 'b', 'b']\n",
       " ['c', 'a', 'a', 'b', 'a', 'b']\n",
       " ['c', 'a', 'a', 'b', 'b', 'a']\n",
       " ['c', 'a', 'b', 'a', 'a', 'b']\n",
       " ['c', 'a', 'b', 'a', 'b', 'a']\n",
       " ['c', 'a', 'b', 'b', 'a', 'a']\n",
       " ['c', 'b', 'a', 'a', 'a', 'b']\n",
       " ['c', 'b', 'a', 'a', 'b', 'a']\n",
       " ['c', 'b', 'a', 'b', 'a', 'a']\n",
       " ['c', 'b', 'b', 'a', 'a', 'a']"
      ]
     },
     "execution_count": 12,
     "metadata": {},
     "output_type": "execute_result"
    }
   ],
   "source": [
    "multiset_permutations(arr2, 6) |> collect"
   ]
  },
  {
   "cell_type": "code",
   "execution_count": 13,
   "metadata": {},
   "outputs": [
    {
     "data": {
      "text/plain": [
       "19-element Vector{Vector{Char}}:\n",
       " ['a', 'a', 'a']\n",
       " ['a', 'a', 'b']\n",
       " ['a', 'a', 'c']\n",
       " ['a', 'b', 'a']\n",
       " ['a', 'b', 'b']\n",
       " ['a', 'b', 'c']\n",
       " ['a', 'c', 'a']\n",
       " ['a', 'c', 'b']\n",
       " ['b', 'a', 'a']\n",
       " ['b', 'a', 'b']\n",
       " ['b', 'a', 'c']\n",
       " ['b', 'b', 'a']\n",
       " ['b', 'b', 'c']\n",
       " ['b', 'c', 'a']\n",
       " ['b', 'c', 'b']\n",
       " ['c', 'a', 'a']\n",
       " ['c', 'a', 'b']\n",
       " ['c', 'b', 'a']\n",
       " ['c', 'b', 'b']"
      ]
     },
     "execution_count": 13,
     "metadata": {},
     "output_type": "execute_result"
    }
   ],
   "source": [
    "multiset_permutations(arr2, 3) |> collect"
   ]
  },
  {
   "cell_type": "code",
   "execution_count": 14,
   "metadata": {},
   "outputs": [
    {
     "data": {
      "text/plain": [
       "38-element Vector{Vector{Char}}:\n",
       " ['a', 'a', 'a', 'b']\n",
       " ['a', 'a', 'a', 'c']\n",
       " ['a', 'a', 'b', 'a']\n",
       " ['a', 'a', 'b', 'b']\n",
       " ['a', 'a', 'b', 'c']\n",
       " ['a', 'a', 'c', 'a']\n",
       " ['a', 'a', 'c', 'b']\n",
       " ['a', 'b', 'a', 'a']\n",
       " ['a', 'b', 'a', 'b']\n",
       " ['a', 'b', 'a', 'c']\n",
       " ['a', 'b', 'b', 'a']\n",
       " ['a', 'b', 'b', 'c']\n",
       " ['a', 'b', 'c', 'a']\n",
       " ⋮\n",
       " ['b', 'b', 'a', 'c']\n",
       " ['b', 'b', 'c', 'a']\n",
       " ['b', 'c', 'a', 'a']\n",
       " ['b', 'c', 'a', 'b']\n",
       " ['b', 'c', 'b', 'a']\n",
       " ['c', 'a', 'a', 'a']\n",
       " ['c', 'a', 'a', 'b']\n",
       " ['c', 'a', 'b', 'a']\n",
       " ['c', 'a', 'b', 'b']\n",
       " ['c', 'b', 'a', 'a']\n",
       " ['c', 'b', 'a', 'b']\n",
       " ['c', 'b', 'b', 'a']"
      ]
     },
     "execution_count": 14,
     "metadata": {},
     "output_type": "execute_result"
    }
   ],
   "source": [
    "multiset_permutations(arr2, 4) |> collect"
   ]
  },
  {
   "cell_type": "markdown",
   "metadata": {},
   "source": [
    "### Arrangement of colored balls as we see in Urn-Ball experiment"
   ]
  },
  {
   "cell_type": "code",
   "execution_count": 15,
   "metadata": {},
   "outputs": [
    {
     "data": {
      "text/plain": [
       "5-element Vector{Char}:\n",
       " '🔴': Unicode U+1F534 (category So: Symbol, other)\n",
       " '🔵': Unicode U+1F535 (category So: Symbol, other)\n",
       " '🟢': Unicode U+1F7E2 (category So: Symbol, other)\n",
       " '🟡': Unicode U+1F7E1 (category So: Symbol, other)\n",
       " '⚪': Unicode U+26AA (category So: Symbol, other)"
      ]
     },
     "execution_count": 15,
     "metadata": {},
     "output_type": "execute_result"
    }
   ],
   "source": [
    "ball_cols = ['\\U1F534', '\\U1F535', '\\U1F7E2', '\\U1F7E1', '\\U26AA']"
   ]
  },
  {
   "cell_type": "code",
   "execution_count": 16,
   "metadata": {},
   "outputs": [
    {
     "name": "stdout",
     "output_type": "stream",
     "text": [
      "['🔴', '🔵', '🟢', '🟡']\n",
      "['🔴', '🔵', '🟢', '⚪']\n",
      "['🔴', '🔵', '🟡', '🟢']\n",
      "['🔴', '🔵', '🟡', '⚪']\n",
      "['🔴', '🔵', '⚪', '🟢']\n",
      "['🔴', '🔵', '⚪', '🟡']\n",
      "['🔴', '🟢', '🔵', '🟡']\n",
      "['🔴', '🟢', '🔵', '⚪']\n",
      "['🔴', '🟢', '🟡', '🔵']\n",
      "['🔴', '🟢', '🟡', '⚪']\n",
      "['🔴', '🟢', '⚪', '🔵']\n",
      "['🔴', '🟢', '⚪', '🟡']\n",
      "['🔴', '🟡', '🔵', '🟢']\n",
      "['🔴', '🟡', '🔵', '⚪']\n",
      "['🔴', '🟡', '🟢', '🔵']\n",
      "['🔴', '🟡', '🟢', '⚪']\n",
      "['🔴', '🟡', '⚪', '🔵']\n",
      "['🔴', '🟡', '⚪', '🟢']\n",
      "['🔴', '⚪', '🔵', '🟢']\n",
      "['🔴', '⚪', '🔵', '🟡']\n",
      "['🔴', '⚪', '🟢', '🔵']\n",
      "['🔴', '⚪', '🟢', '🟡']\n",
      "['🔴', '⚪', '🟡', '🔵']\n",
      "['🔴', '⚪', '🟡', '🟢']\n",
      "['🔵', '🔴', '🟢', '🟡']\n",
      "['🔵', '🔴', '🟢', '⚪']\n",
      "['🔵', '🔴', '🟡', '🟢']\n",
      "['🔵', '🔴', '🟡', '⚪']\n",
      "['🔵', '🔴', '⚪', '🟢']\n",
      "['🔵', '🔴', '⚪', '🟡']\n",
      "['🔵', '🟢', '🔴', '🟡']\n",
      "['🔵', '🟢', '🔴', '⚪']\n",
      "['🔵', '🟢', '🟡', '🔴']\n",
      "['🔵', '🟢', '🟡', '⚪']\n",
      "['🔵', '🟢', '⚪', '🔴']\n",
      "['🔵', '🟢', '⚪', '🟡']\n",
      "['🔵', '🟡', '🔴', '🟢']\n",
      "['🔵', '🟡', '🔴', '⚪']\n",
      "['🔵', '🟡', '🟢', '🔴']\n",
      "['🔵', '🟡', '🟢', '⚪']\n",
      "['🔵', '🟡', '⚪', '🔴']\n",
      "['🔵', '🟡', '⚪', '🟢']\n",
      "['🔵', '⚪', '🔴', '🟢']\n",
      "['🔵', '⚪', '🔴', '🟡']\n",
      "['🔵', '⚪', '🟢', '🔴']\n",
      "['🔵', '⚪', '🟢', '🟡']\n",
      "['🔵', '⚪', '🟡', '🔴']\n",
      "['🔵', '⚪', '🟡', '🟢']\n",
      "['🟢', '🔴', '🔵', '🟡']\n",
      "['🟢', '🔴', '🔵', '⚪']\n",
      "['🟢', '🔴', '🟡', '🔵']\n",
      "['🟢', '🔴', '🟡', '⚪']\n",
      "['🟢', '🔴', '⚪', '🔵']\n",
      "['🟢', '🔴', '⚪', '🟡']\n",
      "['🟢', '🔵', '🔴', '🟡']\n",
      "['🟢', '🔵', '🔴', '⚪']\n",
      "['🟢', '🔵', '🟡', '🔴']\n",
      "['🟢', '🔵', '🟡', '⚪']\n",
      "['🟢', '🔵', '⚪', '🔴']\n",
      "['🟢', '🔵', '⚪', '🟡']\n",
      "['🟢', '🟡', '🔴', '🔵']\n",
      "['🟢', '🟡', '🔴', '⚪']\n",
      "['🟢', '🟡', '🔵', '🔴']\n",
      "['🟢', '🟡', '🔵', '⚪']\n",
      "['🟢', '🟡', '⚪', '🔴']\n",
      "['🟢', '🟡', '⚪', '🔵']\n",
      "['🟢', '⚪', '🔴', '🔵']\n",
      "['🟢', '⚪', '🔴', '🟡']\n",
      "['🟢', '⚪', '🔵', '🔴']\n",
      "['🟢', '⚪', '🔵', '🟡']\n",
      "['🟢', '⚪', '🟡', '🔴']\n",
      "['🟢', '⚪', '🟡', '🔵']\n",
      "['🟡', '🔴', '🔵', '🟢']\n",
      "['🟡', '🔴', '🔵', '⚪']\n",
      "['🟡', '🔴', '🟢', '🔵']\n",
      "['🟡', '🔴', '🟢', '⚪']\n",
      "['🟡', '🔴', '⚪', '🔵']\n",
      "['🟡', '🔴', '⚪', '🟢']\n",
      "['🟡', '🔵', '🔴', '🟢']\n",
      "['🟡', '🔵', '🔴', '⚪']\n",
      "['🟡', '🔵', '🟢', '🔴']\n",
      "['🟡', '🔵', '🟢', '⚪']\n",
      "['🟡', '🔵', '⚪', '🔴']\n",
      "['🟡', '🔵', '⚪', '🟢']\n",
      "['🟡', '🟢', '🔴', '🔵']\n",
      "['🟡', '🟢', '🔴', '⚪']\n",
      "['🟡', '🟢', '🔵', '🔴']\n",
      "['🟡', '🟢', '🔵', '⚪']\n",
      "['🟡', '🟢', '⚪', '🔴']\n",
      "['🟡', '🟢', '⚪', '🔵']\n",
      "['🟡', '⚪', '🔴', '🔵']\n",
      "['🟡', '⚪', '🔴', '🟢']\n",
      "['🟡', '⚪', '🔵', '🔴']\n",
      "['🟡', '⚪', '🔵', '🟢']\n",
      "['🟡', '⚪', '🟢', '🔴']\n",
      "['🟡', '⚪', '🟢', '🔵']\n",
      "['⚪', '🔴', '🔵', '🟢']\n",
      "['⚪', '🔴', '🔵', '🟡']\n",
      "['⚪', '🔴', '🟢', '🔵']\n",
      "['⚪', '🔴', '🟢', '🟡']\n",
      "['⚪', '🔴', '🟡', '🔵']\n",
      "['⚪', '🔴', '🟡', '🟢']\n",
      "['⚪', '🔵', '🔴', '🟢']\n",
      "['⚪', '🔵', '🔴', '🟡']\n",
      "['⚪', '🔵', '🟢', '🔴']\n",
      "['⚪', '🔵', '🟢', '🟡']\n",
      "['⚪', '🔵', '🟡', '🔴']\n",
      "['⚪', '🔵', '🟡', '🟢']\n",
      "['⚪', '🟢', '🔴', '🔵']\n",
      "['⚪', '🟢', '🔴', '🟡']\n",
      "['⚪', '🟢', '🔵', '🔴']\n",
      "['⚪', '🟢', '🔵', '🟡']\n",
      "['⚪', '🟢', '🟡', '🔴']\n",
      "['⚪', '🟢', '🟡', '🔵']\n",
      "['⚪', '🟡', '🔴', '🔵']\n",
      "['⚪', '🟡', '🔴', '🟢']\n",
      "['⚪', '🟡', '🔵', '🔴']\n",
      "['⚪', '🟡', '🔵', '🟢']\n",
      "['⚪', '🟡', '🟢', '🔴']\n",
      "['⚪', '🟡', '🟢', '🔵']\n"
     ]
    }
   ],
   "source": [
    "for i in permutations(ball_cols, 4) println(i) end"
   ]
  },
  {
   "cell_type": "code",
   "execution_count": 17,
   "metadata": {},
   "outputs": [
    {
     "name": "stdout",
     "output_type": "stream",
     "text": [
      "['🔴', '🔵', '🟢']\n",
      "['🔴', '🔵', '🟡']\n",
      "['🔴', '🔵', '⚪']\n",
      "['🔴', '🟢', '🔵']\n",
      "['🔴', '🟢', '🟡']\n",
      "['🔴', '🟢', '⚪']\n",
      "['🔴', '🟡', '🔵']\n",
      "['🔴', '🟡', '🟢']\n",
      "['🔴', '🟡', '⚪']\n",
      "['🔴', '⚪', '🔵']\n",
      "['🔴', '⚪', '🟢']\n",
      "['🔴', '⚪', '🟡']\n",
      "['🔵', '🔴', '🟢']\n",
      "['🔵', '🔴', '🟡']\n",
      "['🔵', '🔴', '⚪']\n",
      "['🔵', '🟢', '🔴']\n",
      "['🔵', '🟢', '🟡']\n",
      "['🔵', '🟢', '⚪']\n",
      "['🔵', '🟡', '🔴']\n",
      "['🔵', '🟡', '🟢']\n",
      "['🔵', '🟡', '⚪']\n",
      "['🔵', '⚪', '🔴']\n",
      "['🔵', '⚪', '🟢']\n",
      "['🔵', '⚪', '🟡']\n",
      "['🟢', '🔴', '🔵']\n",
      "['🟢', '🔴', '🟡']\n",
      "['🟢', '🔴', '⚪']\n",
      "['🟢', '🔵', '🔴']\n",
      "['🟢', '🔵', '🟡']\n",
      "['🟢', '🔵', '⚪']\n",
      "['🟢', '🟡', '🔴']\n",
      "['🟢', '🟡', '🔵']\n",
      "['🟢', '🟡', '⚪']\n",
      "['🟢', '⚪', '🔴']\n",
      "['🟢', '⚪', '🔵']\n",
      "['🟢', '⚪', '🟡']\n",
      "['🟡', '🔴', '🔵']\n",
      "['🟡', '🔴', '🟢']\n",
      "['🟡', '🔴', '⚪']\n",
      "['🟡', '🔵', '🔴']\n",
      "['🟡', '🔵', '🟢']\n",
      "['🟡', '🔵', '⚪']\n",
      "['🟡', '🟢', '🔴']\n",
      "['🟡', '🟢', '🔵']\n",
      "['🟡', '🟢', '⚪']\n",
      "['🟡', '⚪', '🔴']\n",
      "['🟡', '⚪', '🔵']\n",
      "['🟡', '⚪', '🟢']\n",
      "['⚪', '🔴', '🔵']\n",
      "['⚪', '🔴', '🟢']\n",
      "['⚪', '🔴', '🟡']\n",
      "['⚪', '🔵', '🔴']\n",
      "['⚪', '🔵', '🟢']\n",
      "['⚪', '🔵', '🟡']\n",
      "['⚪', '🟢', '🔴']\n",
      "['⚪', '🟢', '🔵']\n",
      "['⚪', '🟢', '🟡']\n",
      "['⚪', '🟡', '🔴']\n",
      "['⚪', '🟡', '🔵']\n",
      "['⚪', '🟡', '🟢']\n"
     ]
    }
   ],
   "source": [
    "for i in permutations(ball_cols, 3) println(i) end"
   ]
  },
  {
   "cell_type": "code",
   "execution_count": 18,
   "metadata": {},
   "outputs": [
    {
     "data": {
      "text/plain": [
       "4-element Vector{Char}:\n",
       " 'a': ASCII/Unicode U+0061 (category Ll: Letter, lowercase)\n",
       " 'b': ASCII/Unicode U+0062 (category Ll: Letter, lowercase)\n",
       " 'c': ASCII/Unicode U+0063 (category Ll: Letter, lowercase)\n",
       " 'd': ASCII/Unicode U+0064 (category Ll: Letter, lowercase)"
      ]
     },
     "execution_count": 18,
     "metadata": {},
     "output_type": "execute_result"
    }
   ],
   "source": [
    "# Restore arr1 once again\n",
    "arr1 = ['a', 'b', 'c', 'd']"
   ]
  },
  {
   "cell_type": "code",
   "execution_count": 19,
   "metadata": {},
   "outputs": [
    {
     "data": {
      "text/plain": [
       "15-element Vector{Vector{Char}}:\n",
       " ['a']\n",
       " ['b']\n",
       " ['c']\n",
       " ['d']\n",
       " ['a', 'b']\n",
       " ['a', 'c']\n",
       " ['a', 'd']\n",
       " ['b', 'c']\n",
       " ['b', 'd']\n",
       " ['c', 'd']\n",
       " ['a', 'b', 'c']\n",
       " ['a', 'b', 'd']\n",
       " ['a', 'c', 'd']\n",
       " ['b', 'c', 'd']\n",
       " ['a', 'b', 'c', 'd']"
      ]
     },
     "execution_count": 19,
     "metadata": {},
     "output_type": "execute_result"
    }
   ],
   "source": [
    "combinations(arr1) |> collect"
   ]
  },
  {
   "cell_type": "code",
   "execution_count": 20,
   "metadata": {},
   "outputs": [
    {
     "data": {
      "text/plain": [
       "16-element Vector{Vector{Char}}:\n",
       " []\n",
       " ['a']\n",
       " ['b']\n",
       " ['c']\n",
       " ['d']\n",
       " ['a', 'b']\n",
       " ['a', 'c']\n",
       " ['a', 'd']\n",
       " ['b', 'c']\n",
       " ['b', 'd']\n",
       " ['c', 'd']\n",
       " ['a', 'b', 'c']\n",
       " ['a', 'b', 'd']\n",
       " ['a', 'c', 'd']\n",
       " ['b', 'c', 'd']\n",
       " ['a', 'b', 'c', 'd']"
      ]
     },
     "execution_count": 20,
     "metadata": {},
     "output_type": "execute_result"
    }
   ],
   "source": [
    "powerset(arr1) |> collect"
   ]
  },
  {
   "cell_type": "code",
   "execution_count": 21,
   "metadata": {},
   "outputs": [
    {
     "data": {
      "text/plain": [
       "4-element Vector{Vector{Char}}:\n",
       " ['a', 'b', 'c']\n",
       " ['a', 'b', 'd']\n",
       " ['a', 'c', 'd']\n",
       " ['b', 'c', 'd']"
      ]
     },
     "execution_count": 21,
     "metadata": {},
     "output_type": "execute_result"
    }
   ],
   "source": [
    "combinations(arr1, 3) |> collect"
   ]
  },
  {
   "cell_type": "code",
   "execution_count": 22,
   "metadata": {},
   "outputs": [
    {
     "data": {
      "text/plain": [
       "6-element Vector{Vector{Char}}:\n",
       " ['a', 'b']\n",
       " ['a', 'c']\n",
       " ['a', 'd']\n",
       " ['b', 'c']\n",
       " ['b', 'd']\n",
       " ['c', 'd']"
      ]
     },
     "execution_count": 22,
     "metadata": {},
     "output_type": "execute_result"
    }
   ],
   "source": [
    "combinations(arr1, 2) |> collect"
   ]
  },
  {
   "cell_type": "code",
   "execution_count": 23,
   "metadata": {},
   "outputs": [
    {
     "data": {
      "text/plain": [
       "20-element Vector{Vector{Char}}:\n",
       " ['a', 'a', 'a']\n",
       " ['a', 'a', 'b']\n",
       " ['a', 'a', 'c']\n",
       " ['a', 'a', 'd']\n",
       " ['a', 'b', 'b']\n",
       " ['a', 'b', 'c']\n",
       " ['a', 'b', 'd']\n",
       " ['a', 'c', 'c']\n",
       " ['a', 'c', 'd']\n",
       " ['a', 'd', 'd']\n",
       " ['b', 'b', 'b']\n",
       " ['b', 'b', 'c']\n",
       " ['b', 'b', 'd']\n",
       " ['b', 'c', 'c']\n",
       " ['b', 'c', 'd']\n",
       " ['b', 'd', 'd']\n",
       " ['c', 'c', 'c']\n",
       " ['c', 'c', 'd']\n",
       " ['c', 'd', 'd']\n",
       " ['d', 'd', 'd']"
      ]
     },
     "execution_count": 23,
     "metadata": {},
     "output_type": "execute_result"
    }
   ],
   "source": [
    "with_replacement_combinations(arr1, 3) |> collect"
   ]
  },
  {
   "cell_type": "code",
   "execution_count": 24,
   "metadata": {},
   "outputs": [
    {
     "data": {
      "text/plain": [
       "6-element Vector{Vector{Char}}:\n",
       " ['a', 'a', 'a']\n",
       " ['a', 'a', 'b']\n",
       " ['a', 'a', 'c']\n",
       " ['a', 'b', 'b']\n",
       " ['a', 'b', 'c']\n",
       " ['b', 'b', 'c']"
      ]
     },
     "execution_count": 24,
     "metadata": {},
     "output_type": "execute_result"
    }
   ],
   "source": [
    "multiset_combinations(arr2, 3) |> collect"
   ]
  },
  {
   "cell_type": "code",
   "execution_count": 25,
   "metadata": {},
   "outputs": [
    {
     "data": {
      "text/plain": [
       "5-element Vector{Vector{Char}}:\n",
       " ['a', 'a', 'a', 'b']\n",
       " ['a', 'a', 'a', 'c']\n",
       " ['a', 'a', 'b', 'b']\n",
       " ['a', 'a', 'b', 'c']\n",
       " ['a', 'b', 'b', 'c']"
      ]
     },
     "execution_count": 25,
     "metadata": {},
     "output_type": "execute_result"
    }
   ],
   "source": [
    "multiset_combinations(arr2, 4) |> collect"
   ]
  },
  {
   "cell_type": "markdown",
   "metadata": {},
   "source": [
    "## Partitions"
   ]
  },
  {
   "cell_type": "code",
   "execution_count": 26,
   "metadata": {},
   "outputs": [
    {
     "data": {
      "text/plain": [
       "7-element Vector{Vector{Int64}}:\n",
       " [1, 1, 1, 1, 1]\n",
       " [2, 1, 1, 1]\n",
       " [2, 2, 1]\n",
       " [3, 1, 1]\n",
       " [3, 2]\n",
       " [4, 1]\n",
       " [5]"
      ]
     },
     "execution_count": 26,
     "metadata": {},
     "output_type": "execute_result"
    }
   ],
   "source": [
    "integer_partitions(5) |> collect"
   ]
  },
  {
   "cell_type": "code",
   "execution_count": 27,
   "metadata": {},
   "outputs": [
    {
     "data": {
      "text/plain": [
       "7-element Vector{Vector{Int64}}:\n",
       " [5]\n",
       " [4, 1]\n",
       " [3, 2]\n",
       " [3, 1, 1]\n",
       " [2, 2, 1]\n",
       " [2, 1, 1, 1]\n",
       " [1, 1, 1, 1, 1]"
      ]
     },
     "execution_count": 27,
     "metadata": {},
     "output_type": "execute_result"
    }
   ],
   "source": [
    "partitions(5) |> collect"
   ]
  },
  {
   "cell_type": "code",
   "execution_count": 28,
   "metadata": {},
   "outputs": [
    {
     "data": {
      "text/plain": [
       "2-element Vector{Vector{Int64}}:\n",
       " [3, 1, 1]\n",
       " [2, 2, 1]"
      ]
     },
     "execution_count": 28,
     "metadata": {},
     "output_type": "execute_result"
    }
   ],
   "source": [
    "partitions(5, 3) |> collect"
   ]
  },
  {
   "cell_type": "markdown",
   "metadata": {},
   "source": [
    "### Set partitions"
   ]
  },
  {
   "cell_type": "markdown",
   "metadata": {},
   "source": [
    "The numbers of ways to get sub-sets of specific size are the respective Stirling numbers of second kind here."
   ]
  },
  {
   "cell_type": "code",
   "execution_count": 29,
   "metadata": {},
   "outputs": [
    {
     "data": {
      "text/plain": [
       "1-element Vector{Vector{Vector{Char}}}:\n",
       " [['a'], ['b'], ['c'], ['d']]"
      ]
     },
     "execution_count": 29,
     "metadata": {},
     "output_type": "execute_result"
    }
   ],
   "source": [
    "partitions(arr1, 4) |> collect"
   ]
  },
  {
   "cell_type": "code",
   "execution_count": 30,
   "metadata": {},
   "outputs": [
    {
     "data": {
      "text/plain": [
       "6-element Vector{Vector{Vector{Char}}}:\n",
       " [['a', 'b'], ['c'], ['d']]\n",
       " [['a', 'c'], ['b'], ['d']]\n",
       " [['a'], ['b', 'c'], ['d']]\n",
       " [['a', 'd'], ['b'], ['c']]\n",
       " [['a'], ['b', 'd'], ['c']]\n",
       " [['a'], ['b'], ['c', 'd']]"
      ]
     },
     "execution_count": 30,
     "metadata": {},
     "output_type": "execute_result"
    }
   ],
   "source": [
    "partitions(arr1, 3) |> collect"
   ]
  },
  {
   "cell_type": "code",
   "execution_count": 31,
   "metadata": {},
   "outputs": [
    {
     "data": {
      "text/plain": [
       "7-element Vector{Vector{Vector{Char}}}:\n",
       " [['a', 'b', 'c'], ['d']]\n",
       " [['a', 'b', 'd'], ['c']]\n",
       " [['a', 'b'], ['c', 'd']]\n",
       " [['a', 'c', 'd'], ['b']]\n",
       " [['a', 'c'], ['b', 'd']]\n",
       " [['a', 'd'], ['b', 'c']]\n",
       " [['a'], ['b', 'c', 'd']]"
      ]
     },
     "execution_count": 31,
     "metadata": {},
     "output_type": "execute_result"
    }
   ],
   "source": [
    "partitions(arr1, 2) |> collect"
   ]
  },
  {
   "cell_type": "code",
   "execution_count": 32,
   "metadata": {},
   "outputs": [
    {
     "data": {
      "text/plain": [
       "1-element Vector{Vector{Vector{Char}}}:\n",
       " [['a', 'b', 'c', 'd']]"
      ]
     },
     "execution_count": 32,
     "metadata": {},
     "output_type": "execute_result"
    }
   ],
   "source": [
    "partitions(arr1, 1) |> collect"
   ]
  },
  {
   "cell_type": "markdown",
   "metadata": {},
   "source": [
    "1, 6, 7, 1 are the respective Stirling numbers of second kind here. Sum of these numbers (i.e. 1+6+7+1 = 15) is the Bell number. So,"
   ]
  },
  {
   "cell_type": "code",
   "execution_count": 33,
   "metadata": {},
   "outputs": [
    {
     "data": {
      "text/plain": [
       "15"
      ]
     },
     "execution_count": 33,
     "metadata": {},
     "output_type": "execute_result"
    }
   ],
   "source": [
    "bellnum(4)        # As length of arr1 is 4"
   ]
  },
  {
   "cell_type": "markdown",
   "metadata": {},
   "source": [
    "## Exponents in multinomial expansion"
   ]
  },
  {
   "cell_type": "code",
   "execution_count": 34,
   "metadata": {},
   "outputs": [
    {
     "data": {
      "text/plain": [
       "3-element Vector{Any}:\n",
       " [2, 0]\n",
       " [1, 1]\n",
       " [0, 2]"
      ]
     },
     "execution_count": 34,
     "metadata": {},
     "output_type": "execute_result"
    }
   ],
   "source": [
    "multiexponents(2, 2) |> collect"
   ]
  },
  {
   "cell_type": "code",
   "execution_count": 35,
   "metadata": {},
   "outputs": [
    {
     "data": {
      "text/plain": [
       "4-element Vector{Any}:\n",
       " [3, 0]\n",
       " [2, 1]\n",
       " [1, 2]\n",
       " [0, 3]"
      ]
     },
     "execution_count": 35,
     "metadata": {},
     "output_type": "execute_result"
    }
   ],
   "source": [
    "multiexponents(2, 3) |> collect"
   ]
  },
  {
   "cell_type": "code",
   "execution_count": 36,
   "metadata": {},
   "outputs": [
    {
     "data": {
      "text/plain": [
       "6-element Vector{Any}:\n",
       " [2, 0, 0]\n",
       " [1, 1, 0]\n",
       " [1, 0, 1]\n",
       " [0, 2, 0]\n",
       " [0, 1, 1]\n",
       " [0, 0, 2]"
      ]
     },
     "execution_count": 36,
     "metadata": {},
     "output_type": "execute_result"
    }
   ],
   "source": [
    "multiexponents(3, 2) |> collect"
   ]
  },
  {
   "cell_type": "code",
   "execution_count": 37,
   "metadata": {},
   "outputs": [
    {
     "data": {
      "text/plain": [
       "10-element Vector{Any}:\n",
       " [3, 0, 0]\n",
       " [2, 1, 0]\n",
       " [2, 0, 1]\n",
       " [1, 2, 0]\n",
       " [1, 1, 1]\n",
       " [1, 0, 2]\n",
       " [0, 3, 0]\n",
       " [0, 2, 1]\n",
       " [0, 1, 2]\n",
       " [0, 0, 3]"
      ]
     },
     "execution_count": 37,
     "metadata": {},
     "output_type": "execute_result"
    }
   ],
   "source": [
    "multiexponents(3, 3) |> collect"
   ]
  }
 ],
 "metadata": {
  "kernelspec": {
   "display_name": "Julia 1.6.1",
   "language": "julia",
   "name": "julia-1.6"
  },
  "language_info": {
   "file_extension": ".jl",
   "mimetype": "application/julia",
   "name": "julia",
   "version": "1.6.1"
  }
 },
 "nbformat": 4,
 "nbformat_minor": 2
}
