{
 "cells": [
  {
   "cell_type": "code",
   "execution_count": 1,
   "metadata": {},
   "outputs": [],
   "source": [
    "using Combinatorics"
   ]
  },
  {
   "cell_type": "code",
   "execution_count": 2,
   "metadata": {},
   "outputs": [
    {
     "data": {
      "text/plain": [
       "4-element Vector{Int64}:\n",
       " 11\n",
       " 12\n",
       " 13\n",
       " 14"
      ]
     },
     "execution_count": 2,
     "metadata": {},
     "output_type": "execute_result"
    }
   ],
   "source": [
    "A = [11, 12, 13, 14]"
   ]
  },
  {
   "cell_type": "code",
   "execution_count": 3,
   "metadata": {},
   "outputs": [
    {
     "data": {
      "text/plain": [
       "4-element Vector{Vector{Int64}}:\n",
       " [11, 12, 13]\n",
       " [11, 12, 14]\n",
       " [11, 13, 14]\n",
       " [12, 13, 14]"
      ]
     },
     "execution_count": 3,
     "metadata": {},
     "output_type": "execute_result"
    }
   ],
   "source": [
    "combinations(A, 3) |> collect"
   ]
  },
  {
   "cell_type": "code",
   "execution_count": 4,
   "metadata": {},
   "outputs": [
    {
     "data": {
      "text/plain": [
       "20-element Vector{Vector{Int64}}:\n",
       " [11, 11, 11]\n",
       " [11, 11, 12]\n",
       " [11, 11, 13]\n",
       " [11, 11, 14]\n",
       " [11, 12, 12]\n",
       " [11, 12, 13]\n",
       " [11, 12, 14]\n",
       " [11, 13, 13]\n",
       " [11, 13, 14]\n",
       " [11, 14, 14]\n",
       " [12, 12, 12]\n",
       " [12, 12, 13]\n",
       " [12, 12, 14]\n",
       " [12, 13, 13]\n",
       " [12, 13, 14]\n",
       " [12, 14, 14]\n",
       " [13, 13, 13]\n",
       " [13, 13, 14]\n",
       " [13, 14, 14]\n",
       " [14, 14, 14]"
      ]
     },
     "execution_count": 4,
     "metadata": {},
     "output_type": "execute_result"
    }
   ],
   "source": [
    "with_replacement_combinations(A, 3) |> collect"
   ]
  },
  {
   "cell_type": "code",
   "execution_count": 5,
   "metadata": {},
   "outputs": [
    {
     "name": "stdout",
     "output_type": "stream",
     "text": [
      "['🔴', '🔵', '🟢']\n",
      "['🔴', '🔵', '🟡']\n",
      "['🔴', '🔵', '⚪']\n",
      "['🔴', '🟢', '🔵']\n",
      "['🔴', '🟢', '🟡']\n",
      "['🔴', '🟢', '⚪']\n",
      "['🔴', '🟡', '🔵']\n",
      "['🔴', '🟡', '🟢']\n",
      "['🔴', '🟡', '⚪']\n",
      "['🔴', '⚪', '🔵']\n",
      "['🔴', '⚪', '🟢']\n",
      "['🔴', '⚪', '🟡']\n",
      "['🔵', '🔴', '🟢']\n",
      "['🔵', '🔴', '🟡']\n",
      "['🔵', '🔴', '⚪']\n",
      "['🔵', '🟢', '🔴']\n",
      "['🔵', '🟢', '🟡']\n",
      "['🔵', '🟢', '⚪']\n",
      "['🔵', '🟡', '🔴']\n",
      "['🔵', '🟡', '🟢']\n",
      "['🔵', '🟡', '⚪']\n",
      "['🔵', '⚪', '🔴']\n",
      "['🔵', '⚪', '🟢']\n",
      "['🔵', '⚪', '🟡']\n",
      "['🟢', '🔴', '🔵']\n",
      "['🟢', '🔴', '🟡']\n",
      "['🟢', '🔴', '⚪']\n",
      "['🟢', '🔵', '🔴']\n",
      "['🟢', '🔵', '🟡']\n",
      "['🟢', '🔵', '⚪']\n",
      "['🟢', '🟡', '🔴']\n",
      "['🟢', '🟡', '🔵']\n",
      "['🟢', '🟡', '⚪']\n",
      "['🟢', '⚪', '🔴']\n",
      "['🟢', '⚪', '🔵']\n",
      "['🟢', '⚪', '🟡']\n",
      "['🟡', '🔴', '🔵']\n",
      "['🟡', '🔴', '🟢']\n",
      "['🟡', '🔴', '⚪']\n",
      "['🟡', '🔵', '🔴']\n",
      "['🟡', '🔵', '🟢']\n",
      "['🟡', '🔵', '⚪']\n",
      "['🟡', '🟢', '🔴']\n",
      "['🟡', '🟢', '🔵']\n",
      "['🟡', '🟢', '⚪']\n",
      "['🟡', '⚪', '🔴']\n",
      "['🟡', '⚪', '🔵']\n",
      "['🟡', '⚪', '🟢']\n",
      "['⚪', '🔴', '🔵']\n",
      "['⚪', '🔴', '🟢']\n",
      "['⚪', '🔴', '🟡']\n",
      "['⚪', '🔵', '🔴']\n",
      "['⚪', '🔵', '🟢']\n",
      "['⚪', '🔵', '🟡']\n",
      "['⚪', '🟢', '🔴']\n",
      "['⚪', '🟢', '🔵']\n",
      "['⚪', '🟢', '🟡']\n",
      "['⚪', '🟡', '🔴']\n",
      "['⚪', '🟡', '🔵']\n",
      "['⚪', '🟡', '🟢']\n"
     ]
    }
   ],
   "source": [
    "col = ['\\U1F534', '\\U1F535', '\\U1F7E2', '\\U1F7E1', '\\U26AA']\n",
    "for i in permutations(col, 3) |> collect println(i) end"
   ]
  }
 ],
 "metadata": {
  "kernelspec": {
   "display_name": "Julia 1.6.1",
   "language": "julia",
   "name": "julia-1.6"
  },
  "language_info": {
   "file_extension": ".jl",
   "mimetype": "application/julia",
   "name": "julia",
   "version": "1.6.1"
  }
 },
 "nbformat": 4,
 "nbformat_minor": 2
}
